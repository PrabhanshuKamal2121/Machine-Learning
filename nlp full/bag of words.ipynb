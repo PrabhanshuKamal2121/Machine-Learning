{
 "cells": [
  {
   "cell_type": "code",
   "execution_count": 1,
   "id": "745fd105-1a7b-401b-ae56-016abcdf552b",
   "metadata": {},
   "outputs": [],
   "source": [
    "from sklearn.feature_extraction.text import CountVectorizer"
   ]
  },
  {
   "cell_type": "code",
   "execution_count": 4,
   "id": "3258cb83-a135-4edb-881e-c05917e69652",
   "metadata": {},
   "outputs": [
    {
     "name": "stdout",
     "output_type": "stream",
     "text": [
      "Vocabulary: ['pizza is the best']\n",
      "\n",
      "Bow Matrix:\n",
      " [[0]\n",
      " [1]\n",
      " [0]\n",
      " [0]]\n"
     ]
    }
   ],
   "source": [
    "from sklearn.feature_extraction.text import CountVectorizer\n",
    "documents = [\n",
    "    \"I love pizza\",\n",
    "    \"Pizza is the best\",\n",
    "    \"I love pasta\",\n",
    "    \"Pasta is great\"\n",
    "]\n",
    "\n",
    "vectorizer= CountVectorizer()\n",
    "X = vectorizer.fit_transform(documents)\n",
    "print(\"Vocabulary:\",vectorizer.get_feature_names_out())\n",
    "print(\"\\nBow Matrix:\\n\", X.toarray())"
   ]
  },
  {
   "cell_type": "code",
   "execution_count": 5,
   "id": "fdecef8e-e7d9-4702-96d8-01b556b223d6",
   "metadata": {},
   "outputs": [
    {
     "name": "stdout",
     "output_type": "stream",
     "text": [
      "Vocabulary: ['is great' 'is the' 'love pasta' 'love pizza' 'pasta is' 'pizza is'\n",
      " 'the best']\n",
      "\n",
      "Bow Matrix:\n",
      " [[0 0 0 1 0 0 0]\n",
      " [0 1 0 0 0 1 1]\n",
      " [0 0 1 0 0 0 0]\n",
      " [1 0 0 0 1 0 0]]\n"
     ]
    }
   ],
   "source": [
    "vectorizer= CountVectorizer(ngram_range=(2,2))\n",
    "X = vectorizer.fit_transform(documents)\n",
    "print(\"Vocabulary:\",vectorizer.get_feature_names_out())\n",
    "print(\"\\nBow Matrix:\\n\", X.toarray())"
   ]
  },
  {
   "cell_type": "code",
   "execution_count": 6,
   "id": "6db35844-b7d6-4d9b-8611-1726f4e58786",
   "metadata": {},
   "outputs": [
    {
     "name": "stdout",
     "output_type": "stream",
     "text": [
      "Vocabulary: ['best' 'great' 'is' 'is great' 'is the' 'love' 'love pasta' 'love pizza'\n",
      " 'pasta' 'pasta is' 'pizza' 'pizza is' 'the' 'the best']\n",
      "\n",
      "Bow Matrix:\n",
      " [[0 0 0 0 0 1 0 1 0 0 1 0 0 0]\n",
      " [1 0 1 0 1 0 0 0 0 0 1 1 1 1]\n",
      " [0 0 0 0 0 1 1 0 1 0 0 0 0 0]\n",
      " [0 1 1 1 0 0 0 0 1 1 0 0 0 0]]\n"
     ]
    }
   ],
   "source": [
    "vectorizer= CountVectorizer(ngram_range=(1,2))\n",
    "X = vectorizer.fit_transform(documents)\n",
    "print(\"Vocabulary:\",vectorizer.get_feature_names_out())\n",
    "print(\"\\nBow Matrix:\\n\", X.toarray())"
   ]
  },
  {
   "cell_type": "code",
   "execution_count": 7,
   "id": "22b07bd0-ab1e-4ad9-acb1-41fe414028e4",
   "metadata": {},
   "outputs": [
    {
     "name": "stdout",
     "output_type": "stream",
     "text": [
      "Vocabulary: ['pizza is the best']\n",
      "\n",
      "Bow Matrix:\n",
      " [[0]\n",
      " [1]\n",
      " [0]\n",
      " [0]]\n"
     ]
    }
   ],
   "source": [
    "vectorizer= CountVectorizer(ngram_range=(4,4))#error\n",
    "X = vectorizer.fit_transform(documents)\n",
    "print(\"Vocabulary:\",vectorizer.get_feature_names_out())\n",
    "print(\"\\nBow Matrix:\\n\", X.toarray())"
   ]
  },
  {
   "cell_type": "code",
   "execution_count": 8,
   "id": "ad1ca9b2-5569-4e9d-b767-15c86d342fb7",
   "metadata": {},
   "outputs": [
    {
     "name": "stdout",
     "output_type": "stream",
     "text": [
      "Vocabulary: ['best' 'great' 'is' 'love' 'pasta' 'pizza' 'the']\n",
      "\n",
      "Bow Matrix:\n",
      " [[0.         0.         0.         0.70710678 0.         0.70710678\n",
      "  0.        ]\n",
      " [0.55528266 0.         0.43779123 0.         0.         0.43779123\n",
      "  0.55528266]\n",
      " [0.         0.         0.         0.70710678 0.70710678 0.\n",
      "  0.        ]\n",
      " [0.         0.66767854 0.52640543 0.         0.52640543 0.\n",
      "  0.        ]]\n"
     ]
    }
   ],
   "source": [
    "from sklearn.feature_extraction.text import TfidfVectorizer\n",
    "documents = [\n",
    "    \"I love pizza\",\n",
    "    \"Pizza is the best\",\n",
    "    \"I love pasta\",\n",
    "    \"Pasta is great\"\n",
    "]\n",
    "\n",
    "vectorizer= TfidfVectorizer()\n",
    "X = vectorizer.fit_transform(documents)\n",
    "print(\"Vocabulary:\",vectorizer.get_feature_names_out())\n",
    "print(\"\\nBow Matrix:\\n\", X.toarray())"
   ]
  },
  {
   "cell_type": "code",
   "execution_count": null,
   "id": "63fd3870-7a1a-4cfa-b905-ff9b32b83432",
   "metadata": {},
   "outputs": [],
   "source": []
  },
  {
   "cell_type": "code",
   "execution_count": null,
   "id": "d8ad8e23-9f6f-4e76-adc1-84e6a5389c74",
   "metadata": {},
   "outputs": [],
   "source": []
  },
  {
   "cell_type": "code",
   "execution_count": null,
   "id": "9c191d03-6040-44e0-82af-958ffa079195",
   "metadata": {},
   "outputs": [],
   "source": []
  },
  {
   "cell_type": "code",
   "execution_count": null,
   "id": "3d9f4005-bae0-47a6-9aba-beab1ef9ae09",
   "metadata": {},
   "outputs": [],
   "source": []
  },
  {
   "cell_type": "code",
   "execution_count": null,
   "id": "1662331b-485b-46de-a3bf-f056442a789f",
   "metadata": {},
   "outputs": [],
   "source": []
  },
  {
   "cell_type": "code",
   "execution_count": null,
   "id": "38f01953-5fde-4f50-8554-11f71b866f13",
   "metadata": {},
   "outputs": [],
   "source": []
  }
 ],
 "metadata": {
  "kernelspec": {
   "display_name": "Python 3 (ipykernel)",
   "language": "python",
   "name": "python3"
  },
  "language_info": {
   "codemirror_mode": {
    "name": "ipython",
    "version": 3
   },
   "file_extension": ".py",
   "mimetype": "text/x-python",
   "name": "python",
   "nbconvert_exporter": "python",
   "pygments_lexer": "ipython3",
   "version": "3.13.5"
  }
 },
 "nbformat": 4,
 "nbformat_minor": 5
}
