{
 "cells": [
  {
   "cell_type": "code",
   "execution_count": 2,
   "id": "62dcbae0-5f23-4517-b989-53cc7db5c648",
   "metadata": {},
   "outputs": [],
   "source": [
    "import numpy as np \n",
    "from scipy.stats import norm "
   ]
  },
  {
   "cell_type": "code",
   "execution_count": 6,
   "id": "69c7dda6-b476-4140-87c6-f687e257d401",
   "metadata": {},
   "outputs": [],
   "source": [
    "sample = [172, 174, 168, 169, 171, 173, 175, 170, 169, 172]\n",
    "population_mean = 170\n",
    "population_std = 3\n",
    "samp_mean = np.mean(sample)\n",
    "n = len(sample)"
   ]
  },
  {
   "cell_type": "code",
   "execution_count": 8,
   "id": "912c4afb-2277-4dfc-9571-0f8d67f5251c",
   "metadata": {},
   "outputs": [
    {
     "data": {
      "text/plain": [
       "1.3703203194063098"
      ]
     },
     "execution_count": 8,
     "metadata": {},
     "output_type": "execute_result"
    }
   ],
   "source": [
    "z_score = (samp_mean - population_mean) / (population_std / np.sqrt(n))\n",
    "z_score"
   ]
  },
  {
   "cell_type": "code",
   "execution_count": 10,
   "id": "df15427a-9f86-46b7-9a09-0782bbc2eb42",
   "metadata": {},
   "outputs": [],
   "source": [
    "p_value = 2 * (1 - norm.cdf(abs(z_score)))"
   ]
  },
  {
   "cell_type": "code",
   "execution_count": 14,
   "id": "304b7080-8192-4f2b-9eca-3472d49ac0d0",
   "metadata": {},
   "outputs": [
    {
     "data": {
      "text/plain": [
       "0.17058693287143756"
      ]
     },
     "execution_count": 14,
     "metadata": {},
     "output_type": "execute_result"
    }
   ],
   "source": [
    "p_value"
   ]
  },
  {
   "cell_type": "code",
   "execution_count": 16,
   "id": "dc6e03ba-50f5-405b-a064-b02e878b1786",
   "metadata": {},
   "outputs": [
    {
     "name": "stdout",
     "output_type": "stream",
     "text": [
      "i will accept the null hypothesis \n"
     ]
    }
   ],
   "source": [
    "alpha = 0.05\n",
    "\n",
    "if p_value < alpha:\n",
    "    print(\"I will reject the null hypothesis\")\n",
    "else:\n",
    "    print(\"i will accept the null hypothesis \")"
   ]
  },
  {
   "cell_type": "code",
   "execution_count": null,
   "id": "8cdf0967-7401-49a8-8ca3-7a32ba755771",
   "metadata": {},
   "outputs": [],
   "source": []
  }
 ],
 "metadata": {
  "kernelspec": {
   "display_name": "Python 3 (ipykernel)",
   "language": "python",
   "name": "python3"
  },
  "language_info": {
   "codemirror_mode": {
    "name": "ipython",
    "version": 3
   },
   "file_extension": ".py",
   "mimetype": "text/x-python",
   "name": "python",
   "nbconvert_exporter": "python",
   "pygments_lexer": "ipython3",
   "version": "3.13.5"
  }
 },
 "nbformat": 4,
 "nbformat_minor": 5
}
